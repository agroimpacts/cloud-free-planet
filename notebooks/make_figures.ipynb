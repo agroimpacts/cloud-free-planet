{
 "cells": [
  {
   "cell_type": "markdown",
   "metadata": {},
   "source": [
    "## Figures"
   ]
  },
  {
   "cell_type": "markdown",
   "metadata": {},
   "source": [
    "### 1 - Sample Sites"
   ]
  },
  {
   "cell_type": "code",
   "execution_count": null,
   "metadata": {},
   "outputs": [],
   "source": [
    "%matplotlib inline\n",
    "import matplotlib.pyplot as plt\n",
    "import numpy as np\n",
    "import skimage.io as skio\n",
    "\n",
    "def normalize(v):\n",
    "    v_min = v.min(axis=(0, 1), keepdims=True)\n",
    "    v_max = v.max(axis=(0, 1), keepdims=True)\n",
    "    return (v - v_min)/(v_max - v_min)\n",
    "\n",
    "plt.style.use('dark_background')\n",
    "samples = [\"forest\", \"ag-forestry\", \"city\", \"savanna\", \"water\"]\n",
    "f, axarr = plt.subplots(1,5, figsize=(35,35))\n",
    "for i,sample in enumerate(samples):\n",
    "    arr = skio.imread(\"/home/rave/cloud-free-planet/cfg/buffered_chips/scene_number_\"+str(24)+\"_\"+sample+\"_.tif\")\n",
    "    axarr[i].imshow(normalize(arr))\n",
    "    axarr[i].set_title(sample, fontsize=20)"
   ]
  },
  {
   "cell_type": "markdown",
   "metadata": {},
   "source": [
    "### 2 - Comparing ATSA, UDM and True Color"
   ]
  },
  {
   "cell_type": "code",
   "execution_count": null,
   "metadata": {},
   "outputs": [],
   "source": [
    "def plot_matching_imgs(scene_id, sample, atsa_masks, udm_masks, udm2_masks):\n",
    "\n",
    "    atsa = atsa_masks[scene_id]\n",
    "    udm = udm_masks[scene_id]\n",
    "    udm2 = udm2_masks[:,:,5,scene_id]\n",
    "    arr = skio.imread(\"/home/rave/cloud-free-planet/cfg/buffered_chips/scene_number_\"+str(scene_id)+\"_\"+sample+\"_.tif\")\n",
    "    f, axarr = plt.subplots(1,4, figsize=(25,25))\n",
    "    for i, img in enumerate([arr, atsa, udm, udm2]):\n",
    "        if img.shape[-1] == 3:\n",
    "            normed = normalize(img)\n",
    "            axarr[i].imshow(normed)\n",
    "        else:\n",
    "            axarr[i].imshow(img, \"cubehelix\")\n",
    "        axarr[i].set_title(str(i), fontsize=20)"
   ]
  },
  {
   "cell_type": "code",
   "execution_count": null,
   "metadata": {},
   "outputs": [],
   "source": [
    "atsa_masks = skio.imread(\"/home/rave/cloud-free-planet/cfg/atsa_results/forest_cloud_and_shadow_masks.tif\")\n",
    "udm_masks = skio.imread(\"/home/rave/cloud-free-planet/cfg/buffered_stacked/forest_udm_stacked.tif\")\n",
    "udm_masks = np.where(udm_masks > 0, 1, 0)\n",
    "udm2_masks = skio.imread(\"/home/rave/cloud-free-planet/cfg/buffered_stacked/forest_udm2_stacked.tif\")\n",
    "udm2_masks = np.reshape(udm2_masks, (udm2_masks.shape[0],udm2_masks.shape[1], 8, int(udm2_masks.shape[2]/8)), order='F')\n"
   ]
  },
  {
   "cell_type": "markdown",
   "metadata": {},
   "source": [
    "## 0 is RGB, 1 is ATSA Mask, 2 is UDM with all values above 0 unioned, and 3 is UDM2"
   ]
  },
  {
   "cell_type": "code",
   "execution_count": null,
   "metadata": {},
   "outputs": [],
   "source": [
    "plot_matching_imgs(10, \"forest\", atsa_masks, udm_masks, udm2_masks)"
   ]
  },
  {
   "cell_type": "code",
   "execution_count": null,
   "metadata": {},
   "outputs": [],
   "source": [
    "plot_matching_imgs(20, \"forest\", atsa_masks, udm_masks, udm2_masks)"
   ]
  },
  {
   "cell_type": "code",
   "execution_count": null,
   "metadata": {},
   "outputs": [],
   "source": [
    "### ATSA is masked as all cloud (value of 2)"
   ]
  },
  {
   "cell_type": "code",
   "execution_count": null,
   "metadata": {},
   "outputs": [],
   "source": [
    "plot_matching_imgs(30, \"forest\", atsa_masks, udm_masks, udm2_masks)"
   ]
  },
  {
   "cell_type": "code",
   "execution_count": null,
   "metadata": {},
   "outputs": [],
   "source": [
    "np.unique(atsa_masks[30])"
   ]
  },
  {
   "cell_type": "code",
   "execution_count": null,
   "metadata": {},
   "outputs": [],
   "source": [
    "atsa_masks = skio.imread(\"/home/rave/cloud-free-planet/cfg/atsa_results/city_cloud_and_shadow_masks.tif\")\n",
    "udm_masks = skio.imread(\"/home/rave/cloud-free-planet/cfg/buffered_stacked/city_udm_stacked.tif\")\n",
    "udm_masks = np.where(udm_masks > 0, 1, 0)\n",
    "udm2_masks = skio.imread(\"/home/rave/cloud-free-planet/cfg/buffered_stacked/city_udm2_stacked.tif\")\n",
    "udm2_masks = np.reshape(udm2_masks, (udm2_masks.shape[0],udm2_masks.shape[1], 8, int(udm2_masks.shape[2]/8)), order='F')\n"
   ]
  },
  {
   "cell_type": "code",
   "execution_count": null,
   "metadata": {},
   "outputs": [],
   "source": [
    "plot_matching_imgs(10, \"city\", atsa_masks, udm_masks, udm2_masks)"
   ]
  },
  {
   "cell_type": "code",
   "execution_count": null,
   "metadata": {},
   "outputs": [],
   "source": [
    "plot_matching_imgs(20, \"city\", atsa_masks, udm_masks, udm2_masks)"
   ]
  },
  {
   "cell_type": "code",
   "execution_count": null,
   "metadata": {},
   "outputs": [],
   "source": [
    "plot_matching_imgs(30, \"city\", atsa_masks, udm_masks, udm2_masks)"
   ]
  },
  {
   "cell_type": "code",
   "execution_count": null,
   "metadata": {},
   "outputs": [],
   "source": [
    "plot_matching_imgs(29, \"city\", atsa_masks, udm_masks, udm2_masks)"
   ]
  },
  {
   "cell_type": "code",
   "execution_count": null,
   "metadata": {},
   "outputs": [],
   "source": [
    "plot_matching_imgs(31, \"city\", atsa_masks, udm_masks, udm2_masks)"
   ]
  },
  {
   "cell_type": "code",
   "execution_count": null,
   "metadata": {},
   "outputs": [],
   "source": [
    "atsa_masks = skio.imread(\"/home/rave/cloud-free-planet/cfg/atsa_results/savanna_cloud_and_shadow_masks.tif\")\n",
    "udm_masks = skio.imread(\"/home/rave/cloud-free-planet/cfg/buffered_stacked/savanna_udm_stacked.tif\")\n",
    "udm_masks = np.where(udm_masks > 0, 1, 0)\n",
    "udm2_masks = skio.imread(\"/home/rave/cloud-free-planet/cfg/buffered_stacked/savanna_udm2_stacked.tif\")\n",
    "udm2_masks = np.reshape(udm2_masks, (udm2_masks.shape[0],udm2_masks.shape[1], 8, int(udm2_masks.shape[2]/8)), order='F')"
   ]
  },
  {
   "cell_type": "code",
   "execution_count": null,
   "metadata": {},
   "outputs": [],
   "source": [
    "plot_matching_imgs(0, \"savanna\", atsa_masks, udm_masks, udm2_masks)"
   ]
  },
  {
   "cell_type": "code",
   "execution_count": null,
   "metadata": {},
   "outputs": [],
   "source": [
    "plot_matching_imgs(24, \"savanna\", atsa_masks, udm_masks, udm2_masks)"
   ]
  },
  {
   "cell_type": "code",
   "execution_count": null,
   "metadata": {},
   "outputs": [],
   "source": [
    "plot_matching_imgs(20, \"savanna\", atsa_masks, udm_masks, udm2_masks)"
   ]
  },
  {
   "cell_type": "code",
   "execution_count": null,
   "metadata": {},
   "outputs": [],
   "source": [
    "plot_matching_imgs(30, \"savanna\", atsa_masks, udm_masks, udm2_masks)"
   ]
  },
  {
   "cell_type": "code",
   "execution_count": null,
   "metadata": {},
   "outputs": [],
   "source": [
    "atsa_masks.shape"
   ]
  },
  {
   "cell_type": "code",
   "execution_count": null,
   "metadata": {},
   "outputs": [],
   "source": [
    "np.unique(atsa_masks[20])"
   ]
  },
  {
   "cell_type": "code",
   "execution_count": null,
   "metadata": {},
   "outputs": [],
   "source": [
    "plot_matching_imgs(40, \"savanna\", atsa_masks, udm_masks, udm2_masks)"
   ]
  },
  {
   "cell_type": "code",
   "execution_count": null,
   "metadata": {},
   "outputs": [],
   "source": [
    "skio.imshow()"
   ]
  },
  {
   "cell_type": "code",
   "execution_count": null,
   "metadata": {},
   "outputs": [],
   "source": [
    "atsa_masks = skio.imread(\"/home/rave/cloud-free-planet/cfg/atsa_results/ag-forestry_cloud_and_shadow_masks.tif\")\n",
    "udm_masks = skio.imread(\"/home/rave/cloud-free-planet/cfg/buffered_stacked/ag-forestry_udm_stacked.tif\")\n",
    "udm_masks = np.where(udm_masks > 0, 1, 0)\n",
    "udm2_masks = skio.imread(\"/home/rave/cloud-free-planet/cfg/buffered_stacked/ag-forestry_udm2_stacked.tif\")\n",
    "udm2_masks = np.reshape(udm2_masks, (udm2_masks.shape[0],udm2_masks.shape[1], 8, int(udm2_masks.shape[2]/8)), order='F')"
   ]
  },
  {
   "cell_type": "code",
   "execution_count": null,
   "metadata": {},
   "outputs": [],
   "source": [
    "plot_matching_imgs(0, \"ag-forestry\", atsa_masks, udm_masks, udm2_masks)"
   ]
  },
  {
   "cell_type": "code",
   "execution_count": null,
   "metadata": {},
   "outputs": [],
   "source": [
    "plot_matching_imgs(10, \"ag-forestry\", atsa_masks, udm_masks, udm2_masks)"
   ]
  },
  {
   "cell_type": "code",
   "execution_count": null,
   "metadata": {},
   "outputs": [],
   "source": [
    "plot_matching_imgs(20, \"ag-forestry\", atsa_masks, udm_masks, udm2_masks)"
   ]
  },
  {
   "cell_type": "code",
   "execution_count": null,
   "metadata": {},
   "outputs": [],
   "source": [
    "plot_matching_imgs(30, \"ag-forestry\", atsa_masks, udm_masks, udm2_masks)"
   ]
  },
  {
   "cell_type": "code",
   "execution_count": null,
   "metadata": {},
   "outputs": [],
   "source": [
    "plot_matching_imgs(40, \"ag-forestry\", atsa_masks, udm_masks, udm2_masks)"
   ]
  }
 ],
 "metadata": {
  "kernelspec": {
   "display_name": "Python [conda env:geo]",
   "language": "python",
   "name": "conda-env-geo-py"
  },
  "language_info": {
   "codemirror_mode": {
    "name": "ipython",
    "version": 3
   },
   "file_extension": ".py",
   "mimetype": "text/x-python",
   "name": "python",
   "nbconvert_exporter": "python",
   "pygments_lexer": "ipython3",
   "version": "3.6.7"
  }
 },
 "nbformat": 4,
 "nbformat_minor": 2
}
