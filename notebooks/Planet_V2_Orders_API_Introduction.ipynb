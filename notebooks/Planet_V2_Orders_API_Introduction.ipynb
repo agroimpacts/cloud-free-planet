{
 "cells": [
  {
   "cell_type": "markdown",
   "metadata": {},
   "source": [
    "This guide combines the new orders API (v2) and existing guides for using the python requests package to get Planet imagery.\n",
    "\n",
    "* https://planet-platform.readme.io/docs/api-examples\n",
    "\n",
    "* https://github.com/planetlabs/notebooks/blob/master/jupyter-notebooks/data-api-tutorials/planet_data_api_introduction.ipynb"
   ]
  },
  {
   "cell_type": "markdown",
   "metadata": {},
   "source": [
    "First we import the modules we need. We use a library called `requests`, which allows one to use HTTP methods directly to get data or send data to an endpoint (the Planet v2 API in this case). A lot of APIs use requests under the hood to manage receiving and sending data to users. Since the v2 API is still being built out, we'll need to use requests directly."
   ]
  },
  {
   "cell_type": "code",
   "execution_count": 16,
   "metadata": {},
   "outputs": [],
   "source": [
    "import os\n",
    "import json\n",
    "import requests\n",
    "import shutil\n",
    "\n",
    "def p(data):\n",
    "    \"helper func to pretty print json output\"\n",
    "    print(json.dumps(data, indent=2))\n",
    "    \n",
    "URL = \"https://api.planet.com/compute/ops/orders/v2\" #found on the v2 docs\n",
    "\n",
    "session = requests.Session()\n"
   ]
  },
  {
   "cell_type": "markdown",
   "metadata": {},
   "source": [
    "Make sure you have set your Planet API key in your ~/.bashrc with `export PL_API_KEY='your api key'`. Then make sure that .bashrc file is sourced with `source ~/.bashrc`. We do this so that this secret API key doesn't accidently get exposed through Github."
   ]
  },
  {
   "cell_type": "code",
   "execution_count": 66,
   "metadata": {},
   "outputs": [],
   "source": [
    "PLANET_API_KEY = os.environ['PL_API_KEY'] \n",
    "session.auth = (PLANET_API_KEY, \"\")"
   ]
  },
  {
   "cell_type": "markdown",
   "metadata": {},
   "source": [
    "This get requests goes to the URL we defined above and gets some data on recent activity with the v2 Orders API."
   ]
  },
  {
   "cell_type": "code",
   "execution_count": 67,
   "metadata": {},
   "outputs": [],
   "source": [
    "# Make a GET request to the Planet Data API\n",
    "res = session.get(URL)\n",
    "res.json()"
   ]
  },
  {
   "cell_type": "markdown",
   "metadata": {},
   "source": [
    "Next let's define a simple query and download scenes that match that query. Later we will define filters but we can also download specific ids. This can be useful if you have preselected some scenes that look good in the Planet Explorer GUI: https://www.planet.com/explorer/"
   ]
  },
  {
   "cell_type": "code",
   "execution_count": 74,
   "metadata": {},
   "outputs": [],
   "source": [
    "request = {  \n",
    "   \"name\":\"simple order\",\n",
    "   \"products\":[\n",
    "      {  \n",
    "         \"item_ids\":[  \n",
    "            \"20151119_025740_0c74\",\n",
    "            \"20151119_025741_0c74\"\n",
    "         ],\n",
    "         \"item_type\":\"PSScene4Band\",\n",
    "         \"product_bundle\":\"analytic\"\n",
    "      }\n",
    "   ]\n",
    "}"
   ]
  },
  {
   "cell_type": "markdown",
   "metadata": {},
   "source": [
    "Instead of getting data with a GET request, this POST request sends data to the Planet API, telling them what we want to query. They then send us back a result to our request with some information. Requests to REST APIs (a popular API framework) always have a Status Code and if the request was succesful, a JSON body with data. In general, staus codes starting with 2 mean that something worked or is working. You can see what HTTP status codes mean here: https://en.wikipedia.org/wiki/List_of_HTTP_status_codes"
   ]
  },
  {
   "cell_type": "code",
   "execution_count": 78,
   "metadata": {},
   "outputs": [],
   "source": [
    "res = session.post(URL, json=request)"
   ]
  },
  {
   "cell_type": "markdown",
   "metadata": {},
   "source": [
    "Now that we have posted a request we can check the status of the POST request with the id of our `res` object, which is what the POST request returned. Note that we need to retreive the contents of the result with the `.json` method. Calling the `res` object will return the HTTP status code that indicates if our POST request was succesful or not."
   ]
  },
  {
   "cell_type": "code",
   "execution_count": 79,
   "metadata": {},
   "outputs": [
    {
     "data": {
      "text/plain": [
       "<Response [202]>"
      ]
     },
     "execution_count": 79,
     "metadata": {},
     "output_type": "execute_result"
    }
   ],
   "source": [
    "res"
   ]
  },
  {
   "cell_type": "code",
   "execution_count": 80,
   "metadata": {},
   "outputs": [
    {
     "name": "stdout",
     "output_type": "stream",
     "text": [
      "{\n",
      "  \"_links\": {\n",
      "    \"_self\": \"https://api.planet.com/compute/ops/orders/v2/7b4a8057-311f-4d7c-952c-1f83f36e2bfd\"\n",
      "  },\n",
      "  \"created_on\": \"2018-10-22T05:31:02.707Z\",\n",
      "  \"error_hints\": [],\n",
      "  \"id\": \"7b4a8057-311f-4d7c-952c-1f83f36e2bfd\",\n",
      "  \"last_message\": \"Preparing order\",\n",
      "  \"last_modified\": \"2018-10-22T05:31:02.707Z\",\n",
      "  \"name\": \"simple order\",\n",
      "  \"products\": [\n",
      "    {\n",
      "      \"item_ids\": [\n",
      "        \"20151119_025740_0c74\",\n",
      "        \"20151119_025741_0c74\"\n",
      "      ],\n",
      "      \"item_type\": \"PSScene4Band\",\n",
      "      \"product_bundle\": \"analytic\"\n",
      "    }\n",
      "  ],\n",
      "  \"state\": \"initializing\"\n",
      "}\n"
     ]
    }
   ],
   "source": [
    "p(res.json())"
   ]
  },
  {
   "cell_type": "markdown",
   "metadata": {},
   "source": [
    "With the JSON output we can check on the status of the order. Looks like our ordered items are ready to download! Since we didn't specify the files we wanted in the request body, for each scene id we get a lot of metadata files along with our analytic .tif"
   ]
  },
  {
   "cell_type": "code",
   "execution_count": 82,
   "metadata": {},
   "outputs": [
    {
     "data": {
      "text/plain": [
       "{'_links': {'_self': 'https://api.planet.com/compute/ops/orders/v2/7b4a8057-311f-4d7c-952c-1f83f36e2bfd',\n",
       "  'results': [{'delivery': 'success',\n",
       "    'expires_at': '2018-10-23T05:31:59.290Z',\n",
       "    'location': 'https://api.planet.com/compute/ops/download/?token=eyJhbGciOiJIUzUxMiIsInR5cCI6IkpXVCJ9.eyJleHAiOjE1NDAyNzI3MTksInN1YiI6Ilh0cjZyRFBXYVE5aXpXbzdmbUcrNUwzTGg4SWt2dEViRDY4TmQzRXlLc054T0Z0eGNYOXF6TDIyWFZWL0tnVkhTalF4b2tvbEpXWDRweWJLYlR6ZTJnPT0iLCJ0b2tlbl90eXBlIjoiZG93bmxvYWQtYXNzZXQtc3RhY2siLCJhb2kiOiIiLCJhc3NldHMiOlt7Iml0ZW1fdHlwZSI6IiIsImFzc2V0X3R5cGUiOiIiLCJpdGVtX2lkIjoiIn1dLCJ1cmwiOiJodHRwczovL3N0b3JhZ2UuZ29vZ2xlYXBpcy5jb20vY29tcHV0ZS1vcmRlcnMtbGl2ZS83YjRhODA1Ny0zMTFmLTRkN2MtOTUyYy0xZjgzZjM2ZTJiZmQvMS9tYW5pZmVzdC5qc29uP0V4cGlyZXM9MTU0MDI3MjcxOVx1MDAyNkdvb2dsZUFjY2Vzc0lkPWNvbXB1dGUtZ2NzLXN2Y2FjYyU0MHBsYW5ldC1jb21wdXRlLXByb2QuaWFtLmdzZXJ2aWNlYWNjb3VudC5jb21cdTAwMjZTaWduYXR1cmU9QTV1bDBDRW0xbFdHbUM4cnJBSEMlMkJSSk1MVmlVWEhEUUJVSHcxUERjc2JHUDRiWmtuT29FVnZra3hiV0VlUXB3ZjRSV0pxeEVjbW0lMkZvQzlOQnRpVDdyJTJCUG5LZU5kSFMlMkZFTmljaHVybCUyRmNCS1ppVlM3U2l0RjJKWEY3Qzc3cXlWc0FKN1lia01XSDIlMkJsQXB5ZHhGRzZ0M3hVSHFvZFBlamJYcEJIRk15JTJCNEMxc0FjWmphRFMlMkJtTFklMkZEcmdJNXB1eXdmeTdJU216VWkxMUQwVTBnMFdnUHF2WVFHSEhvTGNuYk5iTFVXVmF5VE11bnkxeUNORlpPNCUyQkdhMFRTMCUyQkw5YTFRTmtGSCUyRllEeVQ2WmNxJTJGM0cxbUhWQlNhSVpNJTJCMGRGJTJCSGY3MjZHd1NxVmlzTkZBQzlaME9yRmU2dFZlNmFNdVNQJTJCWk9sbUpONGF4d05CQzE3UkElM0QlM0QiLCJzb3VyY2UiOiJPcmRlcnMgU2VydmljZSJ9.Odce7znoswyZKfKug6WiqZ-ID83xQAkHcre-aWY_0L3dkuufUCUgoA4jO9Y3Yrl_HzXnUs3A0dQEycnhfH76Jg',\n",
       "    'name': '7b4a8057-311f-4d7c-952c-1f83f36e2bfd/1/manifest.json'},\n",
       "   {'delivery': 'success',\n",
       "    'expires_at': '2018-10-23T05:31:59.389Z',\n",
       "    'location': 'https://api.planet.com/compute/ops/download/?token=eyJhbGciOiJIUzUxMiIsInR5cCI6IkpXVCJ9.eyJleHAiOjE1NDAyNzI3MTksInN1YiI6IjFxbysycDFPd1pqa21KclRTSEZMTHhROC9nM1IxVHBUeXQydnV6RnN6RUEzTndVeGFjMnhmeFVrc0J3TGhmblRqdzlnU2hicnNCOGpsMnVrRU9NdWRBPT0iLCJ0b2tlbl90eXBlIjoiZG93bmxvYWQtYXNzZXQtc3RhY2siLCJhb2kiOiIiLCJhc3NldHMiOlt7Iml0ZW1fdHlwZSI6IiIsImFzc2V0X3R5cGUiOiIiLCJpdGVtX2lkIjoiIn1dLCJ1cmwiOiJodHRwczovL3N0b3JhZ2UuZ29vZ2xlYXBpcy5jb20vY29tcHV0ZS1vcmRlcnMtbGl2ZS83YjRhODA1Ny0zMTFmLTRkN2MtOTUyYy0xZjgzZjM2ZTJiZmQvMS9maWxlcy9QU1NjZW5lNEJhbmQvMjAxNTExMTlfMDI1NzQwXzBjNzQvMjAxNTExMTlfMDI1NzQwXzBjNzRfbWV0YWRhdGEuanNvbj9FeHBpcmVzPTE1NDAyNzI3MTlcdTAwMjZHb29nbGVBY2Nlc3NJZD1jb21wdXRlLWdjcy1zdmNhY2MlNDBwbGFuZXQtY29tcHV0ZS1wcm9kLmlhbS5nc2VydmljZWFjY291bnQuY29tXHUwMDI2U2lnbmF0dXJlPU5CbDdnNUJHM2pCbnhLRlNOczZBOEJsZGFNVWVOSkFaWFMxUjJvalVYM0ppYzFwaFc0c3Z3dUR0N3huSGlhNGlabUJaUFhHREh5ZlRWJTJGSiUyQkx4eTRXOUxXeUdGNG45NTJDQUFWNThvaTdLanVZWEQ4eCUyQkVWJTJCdmxzVXFxS3QxRmVkUnFNTHlmc0xLTjVwOVA5OTNvQ25yRDRocG44TlBsb1V3U3pLUjNOYUxQVWhZJTJCJTJGOHF3VmNLZlRFR3lYUjV3TVZUZVl6NFJvNUtWY1p6MEpnbDhyN2FlNHF5cFYlMkJtaDhZbGFic2hQSG9zSnBMUiUyQnQ5cyUyRnN1SDJLaTYwRHdBZm5LV0VCZEhLaUUwdFRjOG55NkFQb2l0OFhrTWRmJTJCUjhoWE1ObDVRcDlSS2F0VjVLdTEzTkY5bHQ0NUFjeGhiYTVRUW9mb1pDSkI1UWdDbzB1ZWQ4dlR3JTNEJTNEIiwic291cmNlIjoiT3JkZXJzIFNlcnZpY2UifQ._wrtiQKf2We03IZBwOHJ7uJiG97U8oU1LlpCiZoIRhHwKcBrZimrnG0xXxzqnlcyaqSdQrFKCdZ_2fWiBRfA0w',\n",
       "    'name': '7b4a8057-311f-4d7c-952c-1f83f36e2bfd/1/files/PSScene4Band/20151119_025740_0c74/20151119_025740_0c74_metadata.json'},\n",
       "   {'delivery': 'success',\n",
       "    'expires_at': '2018-10-23T05:31:59.486Z',\n",
       "    'location': 'https://api.planet.com/compute/ops/download/?token=eyJhbGciOiJIUzUxMiIsInR5cCI6IkpXVCJ9.eyJleHAiOjE1NDAyNzI3MTksInN1YiI6IjRObU0wY21rU3hDVng1dWxzVTFuL1B1MXhvaCtLV21MdERjZ2RBZFZwNzNDTUZuVnA5cDR0VnpHU0pRZFFUUEFISUU4UVNlU0RUUUNDc2RJZ2VReFBRPT0iLCJ0b2tlbl90eXBlIjoiZG93bmxvYWQtYXNzZXQtc3RhY2siLCJhb2kiOiIiLCJhc3NldHMiOlt7Iml0ZW1fdHlwZSI6IiIsImFzc2V0X3R5cGUiOiIiLCJpdGVtX2lkIjoiIn1dLCJ1cmwiOiJodHRwczovL3N0b3JhZ2UuZ29vZ2xlYXBpcy5jb20vY29tcHV0ZS1vcmRlcnMtbGl2ZS83YjRhODA1Ny0zMTFmLTRkN2MtOTUyYy0xZjgzZjM2ZTJiZmQvMS9maWxlcy9QU1NjZW5lNEJhbmQvMjAxNTExMTlfMDI1NzQwXzBjNzQvYW5hbHl0aWMvMjAxNTExMTlfMDI1NzQwXzBjNzRfM0JfQW5hbHl0aWNNUy50aWY_RXhwaXJlcz0xNTQwMjcyNzE5XHUwMDI2R29vZ2xlQWNjZXNzSWQ9Y29tcHV0ZS1nY3Mtc3ZjYWNjJTQwcGxhbmV0LWNvbXB1dGUtcHJvZC5pYW0uZ3NlcnZpY2VhY2NvdW50LmNvbVx1MDAyNlNpZ25hdHVyZT1jS0hKYUlOWDBKTXpzQ25iUkVISFRITExJSFZNVnVXJTJCdzBkVTA3RXUwTk1McEpEdGNseG93dWRDZlJpSmw5eDZncGF4WnhWTURpSEVGR3lOT2RuRlBOdXlZRXZZdEdBQUJwaDY3ajRlVnUlMkZPVkd4ZUphT2I2VVlXb0hKOEdYemRoZlRvZ3hGN3dobXFkdW5JZ29zMWZlQzhvNGdjM3BjQ21pYkpWUWMlMkZFZURKMDNzMFJkSGxnR3NNOWRndjhqeTJxRW5aMWg0QnZRNGJ6c2ZyJTJGUDV3T3YlMkJtTE5RMnVBVG8lMkJzd3NzJTJCQm9WZWdxcGc3YndRVTI1R3JaTmlEWmxqaG5ZZlVBWXNySUVTUEV1QiUyQllNTWJHRHc5TVlhdW92eTViMVFlbWV2YUZ1ZENoaXlJQWhXUEV3YkREa3gxbUYwcUs4WjM1eHFHVnU2Y1hSaXdMcVlMcDR3JTNEJTNEIiwic291cmNlIjoiT3JkZXJzIFNlcnZpY2UifQ.y9TRVnn2jYfibLagyYO8xa-AKHz5xrCTqjdYlfniu6S4LGzibKXG-GZoq5Lcx13659rSv41mtAhaUhq7nitLZQ',\n",
       "    'name': '7b4a8057-311f-4d7c-952c-1f83f36e2bfd/1/files/PSScene4Band/20151119_025740_0c74/analytic/20151119_025740_0c74_3B_AnalyticMS.tif'},\n",
       "   {'delivery': 'success',\n",
       "    'expires_at': '2018-10-23T05:31:59.586Z',\n",
       "    'location': 'https://api.planet.com/compute/ops/download/?token=eyJhbGciOiJIUzUxMiIsInR5cCI6IkpXVCJ9.eyJleHAiOjE1NDAyNzI3MTksInN1YiI6ImtFOEtNaWQzYXNyVXVwTUxnV0JyL1R3WnJ5UnpOWEFBNGFkQ0MzZ0pHU2dFRFJKTXY1cnVUbHgzclZ5dVpGLzJLS3lNYVRzNDQyR2M5Z3VEcDY2dlJRPT0iLCJ0b2tlbl90eXBlIjoiZG93bmxvYWQtYXNzZXQtc3RhY2siLCJhb2kiOiIiLCJhc3NldHMiOlt7Iml0ZW1fdHlwZSI6IiIsImFzc2V0X3R5cGUiOiIiLCJpdGVtX2lkIjoiIn1dLCJ1cmwiOiJodHRwczovL3N0b3JhZ2UuZ29vZ2xlYXBpcy5jb20vY29tcHV0ZS1vcmRlcnMtbGl2ZS83YjRhODA1Ny0zMTFmLTRkN2MtOTUyYy0xZjgzZjM2ZTJiZmQvMS9maWxlcy9QU1NjZW5lNEJhbmQvMjAxNTExMTlfMDI1NzQwXzBjNzQvYW5hbHl0aWMvMjAxNTExMTlfMDI1NzQwXzBjNzRfM0JfQW5hbHl0aWNNU19ETl91ZG0udGlmP0V4cGlyZXM9MTU0MDI3MjcxOVx1MDAyNkdvb2dsZUFjY2Vzc0lkPWNvbXB1dGUtZ2NzLXN2Y2FjYyU0MHBsYW5ldC1jb21wdXRlLXByb2QuaWFtLmdzZXJ2aWNlYWNjb3VudC5jb21cdTAwMjZTaWduYXR1cmU9am5BTFNlUG9JcndEemMlMkJldElNU2p4bFVtVEwzZGxpdDU2NTVMVFRYaGNpOVM1JTJCUEN4enRiN0NFSmJmQmhTQjVTeUNVTGxYUVhwZm1FdHdUalRMUGNrYnl5Z1dlendrVHFkWjlNTzRZVDFHREdFQU5CRERmTVIlMkZzVHFCb2VJOHhRZXZmNEhOcTgyeUxLdFpOYVQzJTJCQWtzS0IySHhDTHNETXI5cHV6UlFPY0xuV1hTcU95b0c1eFJ3ZjEyUGFNaHpiOFFqbmlONTN1QWxKeUxjM3lCd0J6TDhHZFFwVDF4cUVaJTJCTEliMyUyQkplMWx6eWMxWlNHeFhLaXg2WmZOMXpKdG45b1hqbklHVk9zJTJGRjhKRmFDa3pSNGh3T2Zrd1NCYVU4WjhVdlN1UFh1ZSUyQjJjNkhKJTJGcDBVUFhEJTJCVXpieGxsVjNmYkdQV244ZWw4WmxLS29Ucmo2NmclM0QlM0QiLCJzb3VyY2UiOiJPcmRlcnMgU2VydmljZSJ9.Ugy2RB9WN2_Z2XZKsTMNr_tPgYXEMe3PVWNY8FgCDa8kIlvVQAcbna7RofmMxbSKjF8E8yanJcawQeftVstveQ',\n",
       "    'name': '7b4a8057-311f-4d7c-952c-1f83f36e2bfd/1/files/PSScene4Band/20151119_025740_0c74/analytic/20151119_025740_0c74_3B_AnalyticMS_DN_udm.tif'},\n",
       "   {'delivery': 'success',\n",
       "    'expires_at': '2018-10-23T05:31:59.688Z',\n",
       "    'location': 'https://api.planet.com/compute/ops/download/?token=eyJhbGciOiJIUzUxMiIsInR5cCI6IkpXVCJ9.eyJleHAiOjE1NDAyNzI3MTksInN1YiI6IlE3ZWRnRlZ6MEladGRPU1AraUNWK29BZnl2aFhSWlgrTmQ4cXJCU3JHSG9EMEp2YURMOEt5a05JQUQ3L05QMkxOaHFTZVVSeityNHVnUVBLOHphNUx3PT0iLCJ0b2tlbl90eXBlIjoiZG93bmxvYWQtYXNzZXQtc3RhY2siLCJhb2kiOiIiLCJhc3NldHMiOlt7Iml0ZW1fdHlwZSI6IiIsImFzc2V0X3R5cGUiOiIiLCJpdGVtX2lkIjoiIn1dLCJ1cmwiOiJodHRwczovL3N0b3JhZ2UuZ29vZ2xlYXBpcy5jb20vY29tcHV0ZS1vcmRlcnMtbGl2ZS83YjRhODA1Ny0zMTFmLTRkN2MtOTUyYy0xZjgzZjM2ZTJiZmQvMS9maWxlcy9QU1NjZW5lNEJhbmQvMjAxNTExMTlfMDI1NzQwXzBjNzQvYW5hbHl0aWMvMjAxNTExMTlfMDI1NzQwXzBjNzRfM0JfQW5hbHl0aWNNU19tZXRhZGF0YS54bWw_RXhwaXJlcz0xNTQwMjcyNzE5XHUwMDI2R29vZ2xlQWNjZXNzSWQ9Y29tcHV0ZS1nY3Mtc3ZjYWNjJTQwcGxhbmV0LWNvbXB1dGUtcHJvZC5pYW0uZ3NlcnZpY2VhY2NvdW50LmNvbVx1MDAyNlNpZ25hdHVyZT1BMUQ4SnBOTGlOVWtCa3ZyWExIYnZzZkszYWR3VyUyRnFIRWtuemFSSHJRVWgydE5hMDk2TlBVYmJqSmxFRFB3MiUyRlNwR1FxaVdCR0o1MEU5NWQ4S0JPU01kRDAzeERpMnV4b1hQNmJ0Y0ZhdFpld3JsakVLNFRtTnA1elRPazlaYm5MeFdXaXNGcVhzN3BCUVdXNlpsbUNTRzdTb0JjJTJCNjVPUTdtZktGT2JyOVdIVERlckhYN2NWMUtyYlpXU1NTNUxuYmRqVHVKOEx2WmdYR04lMkJHTUclMkJhY3F3TndpRzBrYUN2d3lPbSUyQnU1am1taU1BUVE1aDB5Q1NZTEVqaEViVnNGQ0FkeHdhRCUyRjlaV3NKOWQ3MkRYMmFwUmUlMkZ5bDVKZ2FsZ0gzSiUyRnE0ZUR0TnpUS3NJN1RPM3QlMkZxWHBPQWZ1OTk0VFIlMkJZY1U3TkFTU3JUNk9yTEs4bDlRJTNEJTNEIiwic291cmNlIjoiT3JkZXJzIFNlcnZpY2UifQ.PAYKkV2O9SVKiy1IHIV_ypBt3V1tvVDiqBtTBXDljTJrFQvCGtANXMzEiLwhU7RfQN4gX4myAc3jGJStcQzZ7g',\n",
       "    'name': '7b4a8057-311f-4d7c-952c-1f83f36e2bfd/1/files/PSScene4Band/20151119_025740_0c74/analytic/20151119_025740_0c74_3B_AnalyticMS_metadata.xml'},\n",
       "   {'delivery': 'success',\n",
       "    'expires_at': '2018-10-23T05:31:59.487Z',\n",
       "    'location': 'https://api.planet.com/compute/ops/download/?token=eyJhbGciOiJIUzUxMiIsInR5cCI6IkpXVCJ9.eyJleHAiOjE1NDAyNzI3MTksInN1YiI6IkpOLzZBUXVFckFpVkxHRUV4WUpEQkx0djJYNkdZV053d3gwb0J3SWxuc1VBOUZWcDlPZFd2VG5Vek5HOERiUm9hMXNmSzNXMTVrMEttVEJiZWk4Y25nPT0iLCJ0b2tlbl90eXBlIjoiZG93bmxvYWQtYXNzZXQtc3RhY2siLCJhb2kiOiIiLCJhc3NldHMiOlt7Iml0ZW1fdHlwZSI6IiIsImFzc2V0X3R5cGUiOiIiLCJpdGVtX2lkIjoiIn1dLCJ1cmwiOiJodHRwczovL3N0b3JhZ2UuZ29vZ2xlYXBpcy5jb20vY29tcHV0ZS1vcmRlcnMtbGl2ZS83YjRhODA1Ny0zMTFmLTRkN2MtOTUyYy0xZjgzZjM2ZTJiZmQvMi9tYW5pZmVzdC5qc29uP0V4cGlyZXM9MTU0MDI3MjcxOVx1MDAyNkdvb2dsZUFjY2Vzc0lkPWNvbXB1dGUtZ2NzLXN2Y2FjYyU0MHBsYW5ldC1jb21wdXRlLXByb2QuaWFtLmdzZXJ2aWNlYWNjb3VudC5jb21cdTAwMjZTaWduYXR1cmU9ZjhldSUyQkQxNmRjdnJXQ08lMkZRaXAlMkJDdFRLSE9EYjRpM0JHaG91akRvdUpJdG9EaFRYT2ZURVNzazBsdEc4UUtuSHJ4b1lEMENtMTVVUU5yd0lnUmJveGZSNjRyQkpRNE9maW42TFI2SzJDJTJGOGprSU42NlZEdHl1bXlVMGhvR1UwSHRDZFdEUjhtWkdWZUNxcWRrQWdFVDJqcHMlMkIlMkZ1SkI1MXBwMFhyaWVlcnlNTlQzVFRjZ29qYSUyRkQ5RFJ4M2FQdDBIUzYzZXdKaHJiYkFYTGdYN0loQUVJUHk4NFFwTnNiaFB3ZW0wUmVoSVN3MVBuWGxOYVJvdGNhQjU1b3FQWWpJJTJGbyUyQmMxNW1tVHgzVG5SSXdJTnZHbHdoJTJCVzFDYUYxSXRaNGswdlNPN1V6MnVnTnhqeXNxRGMwNFdtOElWJTJGdVlvZXBPZldvd2JHazVLQjdDQyUyRkRHbzRBJTNEJTNEIiwic291cmNlIjoiT3JkZXJzIFNlcnZpY2UifQ.RXITaCJ1cUcSYc5WgOw3JoWgCgPoy0nFg8LRDGTltogUtsJFLBboCSyYLgbj3b8eVFLnkNEpaaKpWZwLIsSHvg',\n",
       "    'name': '7b4a8057-311f-4d7c-952c-1f83f36e2bfd/2/manifest.json'},\n",
       "   {'delivery': 'success',\n",
       "    'expires_at': '2018-10-23T05:31:59.586Z',\n",
       "    'location': 'https://api.planet.com/compute/ops/download/?token=eyJhbGciOiJIUzUxMiIsInR5cCI6IkpXVCJ9.eyJleHAiOjE1NDAyNzI3MTksInN1YiI6IndFOVRXdVozWlBvNUdiWXRhZ0xSb2t4WEh4M0lMcnhFY3FyNGF2RG0zeGZrcUVGT2FvSG9yS0ZCbGYwUGgySFFDQy9aak11YVM4cW5ua25yUmRMcUpnPT0iLCJ0b2tlbl90eXBlIjoiZG93bmxvYWQtYXNzZXQtc3RhY2siLCJhb2kiOiIiLCJhc3NldHMiOlt7Iml0ZW1fdHlwZSI6IiIsImFzc2V0X3R5cGUiOiIiLCJpdGVtX2lkIjoiIn1dLCJ1cmwiOiJodHRwczovL3N0b3JhZ2UuZ29vZ2xlYXBpcy5jb20vY29tcHV0ZS1vcmRlcnMtbGl2ZS83YjRhODA1Ny0zMTFmLTRkN2MtOTUyYy0xZjgzZjM2ZTJiZmQvMi9maWxlcy9QU1NjZW5lNEJhbmQvMjAxNTExMTlfMDI1NzQxXzBjNzQvMjAxNTExMTlfMDI1NzQxXzBjNzRfbWV0YWRhdGEuanNvbj9FeHBpcmVzPTE1NDAyNzI3MTlcdTAwMjZHb29nbGVBY2Nlc3NJZD1jb21wdXRlLWdjcy1zdmNhY2MlNDBwbGFuZXQtY29tcHV0ZS1wcm9kLmlhbS5nc2VydmljZWFjY291bnQuY29tXHUwMDI2U2lnbmF0dXJlPVFXaHU2VHhMQmVDMWRESmdoQVMlMkJPTEJtJTJCaWtsMkNjdWw0c2pUalRPeUp1TXFHcVRvUDIzb2FkT2VjVG54eHZFZ1c5d3BRaHE5RTNlN28wT2V4akJPcHVVZm9xVSUyRlR1ek5peTg5SkMzNG5WWldnJTJCJTJCNFJkWkg0Q08yMGJuJTJGNVoxVTZYc3l5WWwlMkZBSE1JTyUyQjhBayUyRlNENmpjcVhxQmNoTGJ5RzN3NHlOUnNtNlNja2ZvMlNTWnk4V2RyenlnN3R2MFlzc1BveEdISU4zbU1jckQ2MUJIVzQ1Z1B2MXhaTGl6U0NiUDFkV0RPZERmSXFtSjhuT1FxVjN0cUdVczA3a29vRnhMZ0w0dEE1dTNyMHFLUjMlMkJNWFpTM24ybktrS1YxaW9hNHVzMGJiYktXMGlTcTlHYjljNGhmbjRSTW41SVBBTDFEMHpRTSUyRlFka3p4QzVDNXpId0ElM0QlM0QiLCJzb3VyY2UiOiJPcmRlcnMgU2VydmljZSJ9.SnC1apDkdMYp519JG6poxDmTcMUWjdZRcXWu3dS6R675j_twI_awAk3g0liREXazBRiiOZ7lV2HhGesDOeCPPQ',\n",
       "    'name': '7b4a8057-311f-4d7c-952c-1f83f36e2bfd/2/files/PSScene4Band/20151119_025741_0c74/20151119_025741_0c74_metadata.json'},\n",
       "   {'delivery': 'success',\n",
       "    'expires_at': '2018-10-23T05:31:59.686Z',\n",
       "    'location': 'https://api.planet.com/compute/ops/download/?token=eyJhbGciOiJIUzUxMiIsInR5cCI6IkpXVCJ9.eyJleHAiOjE1NDAyNzI3MTksInN1YiI6InZrWCtFWlJ5Nk5XY0o4SGtPYVBiajMxOUJHdW5mbVhoQ3RQN281aDRIcG1Ma1dWZm1lL1IzQ0hORXl6NDMxNDVYQ29GUUlHQXliUWMxZkZMUS9pUWZnPT0iLCJ0b2tlbl90eXBlIjoiZG93bmxvYWQtYXNzZXQtc3RhY2siLCJhb2kiOiIiLCJhc3NldHMiOlt7Iml0ZW1fdHlwZSI6IiIsImFzc2V0X3R5cGUiOiIiLCJpdGVtX2lkIjoiIn1dLCJ1cmwiOiJodHRwczovL3N0b3JhZ2UuZ29vZ2xlYXBpcy5jb20vY29tcHV0ZS1vcmRlcnMtbGl2ZS83YjRhODA1Ny0zMTFmLTRkN2MtOTUyYy0xZjgzZjM2ZTJiZmQvMi9maWxlcy9QU1NjZW5lNEJhbmQvMjAxNTExMTlfMDI1NzQxXzBjNzQvYW5hbHl0aWMvMjAxNTExMTlfMDI1NzQxXzBjNzRfM0JfQW5hbHl0aWNNUy50aWY_RXhwaXJlcz0xNTQwMjcyNzE5XHUwMDI2R29vZ2xlQWNjZXNzSWQ9Y29tcHV0ZS1nY3Mtc3ZjYWNjJTQwcGxhbmV0LWNvbXB1dGUtcHJvZC5pYW0uZ3NlcnZpY2VhY2NvdW50LmNvbVx1MDAyNlNpZ25hdHVyZT1uVVlCMzZGYUdqM3NvQ3o2RkhuUklPTnk2ZVlJYnd5RWNqMzFxT1U1WG1oU1ZYYjltVVJvak1tOFFCbXhVTWk4WktBdlFuYjdzcnh2RnNJb0RhVHpTVlhlYWhxQjJuazdXQ2dhNWVqWTAxU0g1b0xQbGl3d3NXdVlhSlhuWDJiWEFtMEQxZFRMcVJ4UUxMUXE3bWVDQSUyQmpWS0h5QThMTURFd3hqMW5iNSUyRnJTanNVTVNiTkZ1Nm5KcDBFelNHWjBwZWhiVVZ4cGw3MUF4REZXTlZsRXNnV3hZT29mMXA0R3RlR3p1R0MyTERSaVVDOVZOeFNEN1RpV3hRdXBiVEslMkJ5JTJCS0dwJTJGN2luTiUyQngwUzJncHByOXlMSWVHYSUyRjN6MTl1OVRkd3VGTG0lMkI3TWRIZ3RYdnNrcWNGUDhGSGN1SEh0JTJGOUdveGNLWU40VEd6SHdkRHJWUjZlS2clM0QlM0QiLCJzb3VyY2UiOiJPcmRlcnMgU2VydmljZSJ9.gd3QrTkGUFTAI2nLzwuZc5o8_KGMg3lHGjw12kd-3rNspW6No2g6aSXQ3t8pQ46Znt_VowdizW9LC6UDNVoOUw',\n",
       "    'name': '7b4a8057-311f-4d7c-952c-1f83f36e2bfd/2/files/PSScene4Band/20151119_025741_0c74/analytic/20151119_025741_0c74_3B_AnalyticMS.tif'},\n",
       "   {'delivery': 'success',\n",
       "    'expires_at': '2018-10-23T05:31:59.690Z',\n",
       "    'location': 'https://api.planet.com/compute/ops/download/?token=eyJhbGciOiJIUzUxMiIsInR5cCI6IkpXVCJ9.eyJleHAiOjE1NDAyNzI3MTksInN1YiI6IjZJUzE0L3RVNUtIOXRiRTU3dDFRY1kvZ3VhSU0xVzI1bmhSLys4aFZYMGZzcWZoZTQ1MHNMa0QrVk9nb09CMUZGZXd6N09ubG1sTUQzQ3hFUWlSWWhnPT0iLCJ0b2tlbl90eXBlIjoiZG93bmxvYWQtYXNzZXQtc3RhY2siLCJhb2kiOiIiLCJhc3NldHMiOlt7Iml0ZW1fdHlwZSI6IiIsImFzc2V0X3R5cGUiOiIiLCJpdGVtX2lkIjoiIn1dLCJ1cmwiOiJodHRwczovL3N0b3JhZ2UuZ29vZ2xlYXBpcy5jb20vY29tcHV0ZS1vcmRlcnMtbGl2ZS83YjRhODA1Ny0zMTFmLTRkN2MtOTUyYy0xZjgzZjM2ZTJiZmQvMi9maWxlcy9QU1NjZW5lNEJhbmQvMjAxNTExMTlfMDI1NzQxXzBjNzQvYW5hbHl0aWMvMjAxNTExMTlfMDI1NzQxXzBjNzRfM0JfQW5hbHl0aWNNU19ETl91ZG0udGlmP0V4cGlyZXM9MTU0MDI3MjcxOVx1MDAyNkdvb2dsZUFjY2Vzc0lkPWNvbXB1dGUtZ2NzLXN2Y2FjYyU0MHBsYW5ldC1jb21wdXRlLXByb2QuaWFtLmdzZXJ2aWNlYWNjb3VudC5jb21cdTAwMjZTaWduYXR1cmU9bU40eHFHVmp1dFdESnA2SWNzTXlnZ0c3Z2FzS25zbmpsUGFyQjFTWkdkd2tmb0JRV2VaZUswOXNwS1QlMkI5OEtxSHFNejFTJTJCbGhsN0RKUEp0dE1QWTkzcFglMkJ1UU9PVmRpUDJoeXFxb0RiYWpQWDUxTCUyRlY4aUtjYmpHNktNT25FazVPTUJyQiUyQnU1QTFQN0dmQkV1WDdTblFIM1hra0JOWmVsSW50eVcxa28lMkJjdkJnalMzcnEzc0ZObUp6REJORE1BU0tJTkxjbHFYeE5iNHk2S2klMkJVVGhISzBDazlmckUlMkZMczRadWNwSk96dEJlR3pNUU5xTnlHc2ZxVkpHYjNBdXB5d2J6aUdrU21KcEwwbjJhb3RGTjR2MUU4akk1UHQ2WkolMkJwMkhMdnpFWGtNbDNSV1NiRnpiUXhYeHhsbTNySEdYY3MxRCUyRktncFo2VWN3MzRwMVN1emclM0QlM0QiLCJzb3VyY2UiOiJPcmRlcnMgU2VydmljZSJ9.7t1zZU4y4e2JvLRwMtHWIvX0AsSrwW4n8F_lrpvyiKAvwvfyArN0YGMyZ8a53Ic4e3vTeNWP8dp-RijElTNp4g',\n",
       "    'name': '7b4a8057-311f-4d7c-952c-1f83f36e2bfd/2/files/PSScene4Band/20151119_025741_0c74/analytic/20151119_025741_0c74_3B_AnalyticMS_DN_udm.tif'},\n",
       "   {'delivery': 'success',\n",
       "    'expires_at': '2018-10-23T05:31:59.788Z',\n",
       "    'location': 'https://api.planet.com/compute/ops/download/?token=eyJhbGciOiJIUzUxMiIsInR5cCI6IkpXVCJ9.eyJleHAiOjE1NDAyNzI3MTksInN1YiI6IlF6NC94ckFlVVJwYmJCSitkZnBhdUNYODRUVmcvb25sK0kxMFZIcURSMk9IYnBoRzBqaVlRSUZseDVnM05iSFU1YUNnV0ZORC9lOXh2RktaMlo5b1l3PT0iLCJ0b2tlbl90eXBlIjoiZG93bmxvYWQtYXNzZXQtc3RhY2siLCJhb2kiOiIiLCJhc3NldHMiOlt7Iml0ZW1fdHlwZSI6IiIsImFzc2V0X3R5cGUiOiIiLCJpdGVtX2lkIjoiIn1dLCJ1cmwiOiJodHRwczovL3N0b3JhZ2UuZ29vZ2xlYXBpcy5jb20vY29tcHV0ZS1vcmRlcnMtbGl2ZS83YjRhODA1Ny0zMTFmLTRkN2MtOTUyYy0xZjgzZjM2ZTJiZmQvMi9maWxlcy9QU1NjZW5lNEJhbmQvMjAxNTExMTlfMDI1NzQxXzBjNzQvYW5hbHl0aWMvMjAxNTExMTlfMDI1NzQxXzBjNzRfM0JfQW5hbHl0aWNNU19tZXRhZGF0YS54bWw_RXhwaXJlcz0xNTQwMjcyNzE5XHUwMDI2R29vZ2xlQWNjZXNzSWQ9Y29tcHV0ZS1nY3Mtc3ZjYWNjJTQwcGxhbmV0LWNvbXB1dGUtcHJvZC5pYW0uZ3NlcnZpY2VhY2NvdW50LmNvbVx1MDAyNlNpZ25hdHVyZT1XamlpZ1F1cXlXa2dJZERCYTZnZUliR2haSEpQZlFLRUJYcExFQ3o2ckROdnglMkI4NXklMkZuQnFHWWpwMHBzbCUyQnIxZUFDMGQzZXZWV2ZZd2d4RWxRTkglMkJXZWNyOEV3U0ElMkZlJTJGVEdnN0xGcEIlMkZObHglMkJDZVVpbm02WGZSbjF5eUhYaWFmR1hCSnUzQm5KS1pBNlhtY052cnU3akN0VjczJTJCYkRkc3BJeHZLcXluMWJEdHVRSDQ5MUJnU0NIT1VHeVN4emd4NWw1RWd2YjNoQjZEcnFraDJyTzMxTUdkWkthWUNMZEhGcnp1dFdCMCUyQmIxQnR5M285bVNqczRMNnhYTlpFY0ElMkJsSkZybHJ3N2N3R0dXWEk4ZUh6c3pjWHJTQm51dlRwNHlaWWEwb1VtaHVQZmtPaVIwclBRdENPR01GQlpPdEFLZ2NsRnhUcW5ieFNOcnBxMG9iZ2F3JTNEJTNEIiwic291cmNlIjoiT3JkZXJzIFNlcnZpY2UifQ.mEorD7bsXTwqad4YhQF1evUn5zU-IMKd97BZ1PlPP4yucGJDv8uVSxKmaOo8lNyzhxEEeLcandA_N69a1ocbaQ',\n",
       "    'name': '7b4a8057-311f-4d7c-952c-1f83f36e2bfd/2/files/PSScene4Band/20151119_025741_0c74/analytic/20151119_025741_0c74_3B_AnalyticMS_metadata.xml'}]},\n",
       " 'created_on': '2018-10-22T05:31:02.703Z',\n",
       " 'error_hints': [],\n",
       " 'id': '7b4a8057-311f-4d7c-952c-1f83f36e2bfd',\n",
       " 'last_message': 'Delivery completed',\n",
       " 'last_modified': '2018-10-22T05:32:36.346Z',\n",
       " 'name': 'simple order',\n",
       " 'products': [{'item_ids': ['20151119_025740_0c74', '20151119_025741_0c74'],\n",
       "   'item_type': 'PSScene4Band',\n",
       "   'product_bundle': 'analytic'}],\n",
       " 'state': 'success'}"
      ]
     },
     "execution_count": 82,
     "metadata": {},
     "output_type": "execute_result"
    }
   ],
   "source": [
    "STATUS_URL = res.json()['_links']['_self']\n",
    "status = session.get(STATUS_URL)\n",
    "status.json()"
   ]
  },
  {
   "cell_type": "code",
   "execution_count": 64,
   "metadata": {},
   "outputs": [],
   "source": [
    "def download_file(url, name, prefix, session):\n",
    "    '''\n",
    "    Helper function modified from \n",
    "    https://stackoverflow.com/questions/16694907/how-to-download-large-file-in-python-with-requests-py#16696317\n",
    "    '''\n",
    "    \n",
    "    local_filename = os.path.join(prefix, name.split('/')[-1])\n",
    "    r = session.get(url, stream=True)\n",
    "    with open(local_filename, 'wb') as f:\n",
    "        shutil.copyfileobj(r.raw, f)\n",
    "\n",
    "    return local_filename\n",
    "\n"
   ]
  },
  {
   "cell_type": "code",
   "execution_count": 65,
   "metadata": {},
   "outputs": [],
   "source": [
    "for result in status.json()['_links']['results']:\n",
    "    download_file(result['location'], result['name'], \"data\", session)"
   ]
  },
  {
   "cell_type": "markdown",
   "metadata": {},
   "source": [
    "Boom, we have our data."
   ]
  }
 ],
 "metadata": {
  "kernelspec": {
   "display_name": "Python [conda env:anaconda3]",
   "language": "python",
   "name": "conda-env-anaconda3-py"
  },
  "language_info": {
   "codemirror_mode": {
    "name": "ipython",
    "version": 3
   },
   "file_extension": ".py",
   "mimetype": "text/x-python",
   "name": "python",
   "nbconvert_exporter": "python",
   "pygments_lexer": "ipython3",
   "version": "3.6.4"
  }
 },
 "nbformat": 4,
 "nbformat_minor": 2
}
