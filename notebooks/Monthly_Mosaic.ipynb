{
 "cells": [
  {
   "cell_type": "markdown",
   "metadata": {},
   "source": [
    "Below is the coarse layout defined in geopyspark to merge model outputs. Each tile is .0512 degrees by .0512 degrees. need to make a shapely multi line string or polygon bject that can be used to save out tiles as geojsons (only if they intersect an aoi) so that we can use each tile geojson with porder"
   ]
  },
  {
   "cell_type": "markdown",
   "metadata": {},
   "source": [
    "coarse_layout = gps.LayoutDefinition(gps.Extent(-17.541, -34.845, 51.4766, 37.5518), gps.TileLayout(1348, 1414, 4096, 4096))"
   ]
  },
  {
   "cell_type": "code",
   "execution_count": 2,
   "metadata": {
    "collapsed": true
   },
   "outputs": [],
   "source": [
    "from shapely.geometry import Polygon\n",
    "import pyproj\n",
    "import numpy as np\n",
    "import geopandas as gpd"
   ]
  },
  {
   "cell_type": "code",
   "execution_count": 4,
   "metadata": {},
   "outputs": [],
   "source": [
    "def layout_to_geojson(extent=(-17.541, -34.845, 51.4766, 37.5518), stepsize=.0512, output_name=\"/dev/data/tile_grid.geojson\"):\n",
    "    \"\"\"\n",
    "    :param extent: (lonmin, latmin, lonmax, latmax) checked this by \n",
    "    looking at coarse layout in run_geopyspark\n",
    "    \n",
    "    :param stepsize: width and height of tile in degrees, checked \n",
    "    this by measuring extent of probability image tiles\n",
    "    \n",
    "    :returns: a geodataframe where each row is a tile polygon\n",
    "    \"\"\"\n",
    "    \n",
    "    (lonmin, latmin, lonmax, latmax) = extent\n",
    "    cols = (lonmax - lonmin)/.0512\n",
    "    rows = (latmax - latmin)/.0512\n",
    "    # Top left corner of grid, where we start to build the gdf\n",
    "    XleftOrigin = lonmin\n",
    "    XrightOrigin = lonmin + stepsize\n",
    "    YtopOrigin = latmax\n",
    "    YbottomOrigin = latmax - stepsize\n",
    "    polygons = []\n",
    "    \n",
    "    for i in range(int(cols)):\n",
    "        \n",
    "        Ytop = YtopOrigin\n",
    "        Ybottom =YbottomOrigin\n",
    "        for j in range(int(rows)):\n",
    "            polygons.append(Polygon([(XleftOrigin, Ytop), (XrightOrigin, Ytop), (XrightOrigin, Ybottom), (XleftOrigin, Ybottom)])) \n",
    "            Ytop = Ytop - stepsize\n",
    "            Ybottom = Ybottom - stepsize\n",
    "        XleftOrigin = XleftOrigin + stepsize\n",
    "        XrightOrigin = XrightOrigin + stepsize\n",
    "\n",
    "    grid = gpd.GeoDataFrame({'geometry':polygons})\n",
    "    grid.to_file(output_name, driver = \"GeoJSON\")\n",
    "    \n",
    "layout_to_geojson()"
   ]
  },
  {
   "cell_type": "code",
   "execution_count": 17,
   "metadata": {},
   "outputs": [],
   "source": [
    "aoi1_polygon = gpd.read_file(\"../cfg/aois/1.geojson\")['geometry'][0]\n",
    "grid_gdf = gpd.read_file(\"/dev/data/tile_grid.geojson\")\n",
    "\n",
    "aoi1_grid_geometries = grid_gdf.intersection(aoi1_polygon)\n",
    "aoi1_grid_geometries= aoi1_grid_geometries[aoi1_grid_geometries.is_empty==False]\n",
    "\n",
    "test_geom=aoi1_grid_geometries.iloc[6]\n",
    "\n",
    "gpd.GeoSeries([test_geom]).to_file('test_tile.geojson')"
   ]
  },
  {
   "cell_type": "code",
   "execution_count": 4,
   "metadata": {
    "collapsed": true
   },
   "outputs": [],
   "source": [
    "from subprocess import Popen, PIPE\n",
    "p = Popen(\"porder\", stdout=PIPE, stderr=PIPE)\n",
    "stdout, stderr = p.communicate()"
   ]
  },
  {
   "cell_type": "code",
   "execution_count": 6,
   "metadata": {},
   "outputs": [
    {
     "data": {
      "text/plain": [
       "'usage: porder [-h]\\n              {quota,base64,idlist,difflist,idsplit,order,download,multipart,multiproc}\\n              ...\\nporder: error: too few arguments\\n'"
      ]
     },
     "execution_count": 6,
     "metadata": {},
     "output_type": "execute_result"
    }
   ],
   "source": [
    "stderr"
   ]
  }
 ],
 "metadata": {
  "kernelspec": {
   "display_name": "Python [conda env:porder_env]",
   "language": "python",
   "name": "conda-env-porder_env-py"
  },
  "language_info": {
   "codemirror_mode": {
    "name": "ipython",
    "version": 2
   },
   "file_extension": ".py",
   "mimetype": "text/x-python",
   "name": "python",
   "nbconvert_exporter": "python",
   "pygments_lexer": "ipython2",
   "version": "2.7.15"
  }
 },
 "nbformat": 4,
 "nbformat_minor": 2
}
