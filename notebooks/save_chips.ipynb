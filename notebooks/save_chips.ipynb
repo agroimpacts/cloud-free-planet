{
 "cells": [
  {
   "cell_type": "code",
   "execution_count": 10,
   "metadata": {},
   "outputs": [],
   "source": [
    "from rasterio.plot import reshape_as_raster"
   ]
  },
  {
   "cell_type": "code",
   "execution_count": 1,
   "metadata": {},
   "outputs": [],
   "source": [
    "import skimage.io as skio\n",
    "import numpy as np\n",
    "import rasterio as rio"
   ]
  },
  {
   "cell_type": "code",
   "execution_count": 2,
   "metadata": {},
   "outputs": [],
   "source": [
    "path_id = \"forest\"\n",
    "with rio.open('/home/rave/cloud-free-planet/cfg/buffered_stacked/'+path_id+ '_stacked.tif') as dataset:\n",
    "    profile = dataset.profile.copy()\n",
    "    meta = dataset.meta.copy()\n",
    "    arr = dataset.read()"
   ]
  },
  {
   "cell_type": "code",
   "execution_count": 3,
   "metadata": {},
   "outputs": [],
   "source": [
    "arr = np.moveaxis(arr, 0, 2)\n",
    "arr = np.reshape(arr, (arr.shape[0],arr.shape[1], 4, int(arr.shape[2]/4)))"
   ]
  },
  {
   "cell_type": "code",
   "execution_count": 5,
   "metadata": {},
   "outputs": [
    {
     "data": {
      "text/plain": [
       "{'driver': 'GTiff',\n",
       " 'dtype': 'uint16',\n",
       " 'nodata': 1.0,\n",
       " 'width': 1084,\n",
       " 'height': 1082,\n",
       " 'count': 156,\n",
       " 'crs': CRS({'init': 'epsg:32630'}),\n",
       " 'transform': Affine(3.0, 0.0, 549723.0,\n",
       "        0.0, -3.0, 678441.0)}"
      ]
     },
     "execution_count": 5,
     "metadata": {},
     "output_type": "execute_result"
    }
   ],
   "source": [
    "meta"
   ]
  },
  {
   "cell_type": "code",
   "execution_count": 11,
   "metadata": {},
   "outputs": [],
   "source": [
    "for i in np.arange(arr.shape[-1]):\n",
    "    blue = arr[:,:,0,i]\n",
    "    green = arr[:,:,1,i]\n",
    "    red = arr[:,:,2,i]\n",
    "    stacked = np.stack([red, green, blue], axis = 2)\n",
    "    out_path = \"/home/rave/cloud-free-planet/cfg/buffered_chips/scene_number_\"+str(i)+\"_\"+path_id+\"_.tif\"\n",
    "    profile.update(count=3)\n",
    "    with rio.open(out_path,'w',**profile) as dst:\n",
    "        dst.write(reshape_as_raster(stacked))"
   ]
  },
  {
   "cell_type": "code",
   "execution_count": 15,
   "metadata": {},
   "outputs": [],
   "source": [
    "%matplotlib inline"
   ]
  },
  {
   "cell_type": "code",
   "execution_count": 16,
   "metadata": {},
   "outputs": [
    {
     "name": "stderr",
     "output_type": "stream",
     "text": [
      "Clipping input data to the valid range for imshow with RGB data ([0..1] for floats or [0..255] for integers).\n"
     ]
    },
    {
     "data": {
      "text/plain": [
       "<matplotlib.image.AxesImage at 0x7f5eb004ab00>"
      ]
     },
     "execution_count": 16,
     "metadata": {},
     "output_type": "execute_result"
    },
    {
     "data": {
      "image/png": "[encoded data removed]",
      "text/plain": [
       "<Figure size 432x288 with 2 Axes>"
      ]
     },
     "metadata": {
      "needs_background": "light"
     },
     "output_type": "display_data"
    }
   ],
   "source": [
    "skio.imshow(skio.imread(\"/home/rave/cloud-free-planet/cfg/buffered_chips/scene_number_\"+str(i)+\"_\"+path_id+\"_.tif\"))"
   ]
  }
 ],
 "metadata": {
  "kernelspec": {
   "display_name": "Python [conda env:geo]",
   "language": "python",
   "name": "conda-env-geo-py"
  },
  "language_info": {
   "codemirror_mode": {
    "name": "ipython",
    "version": 3
   },
   "file_extension": ".py",
   "mimetype": "text/x-python",
   "name": "python",
   "nbconvert_exporter": "python",
   "pygments_lexer": "ipython3",
   "version": "3.6.7"
  }
 },
 "nbformat": 4,
 "nbformat_minor": 2
}
